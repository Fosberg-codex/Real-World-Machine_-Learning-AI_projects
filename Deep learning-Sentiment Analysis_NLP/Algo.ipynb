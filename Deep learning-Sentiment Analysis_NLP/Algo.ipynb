{
 "cells": [
  {
   "cell_type": "code",
   "execution_count": 27,
   "id": "3e9512be-0abc-435c-8144-6ea25b756e3f",
   "metadata": {},
   "outputs": [
    {
     "name": "stdout",
     "output_type": "stream",
     "text": [
      "[' sad', ' sad', ' fearless', ' average', ' obsessed', ' hated', ' focused', ' cheated', ' happy', ' happy', ' attached', ' alone', ' esteemed', ' happy', ' sad', ' powerless', ' esteemed', ' hated', ' loved', ' alone', ' attached', ' ecstatic', ' sad', ' happy', ' loved', ' hated', ' sad']\n",
      "Counter({' sad': 5, ' happy': 4, ' hated': 3, ' attached': 2, ' alone': 2, ' esteemed': 2, ' loved': 2, ' fearless': 1, ' average': 1, ' obsessed': 1, ' focused': 1, ' cheated': 1, ' powerless': 1, ' ecstatic': 1})\n"
     ]
    },
    {
     "data": {
      "image/png": "[encoded data removed]",
      "text/plain": [
       "<Figure size 432x288 with 1 Axes>"
      ]
     },
     "metadata": {
      "needs_background": "light"
     },
     "output_type": "display_data"
    }
   ],
   "source": [
    "import string\n",
    "from collections import Counter\n",
    "\n",
    "import matplotlib.pyplot as plt\n",
    "\n",
    "# reading text file\n",
    "text = open(\"Story.txt\", encoding=\"utf-8\").read()\n",
    "\n",
    "# converting to lowercase\n",
    "lower_case = text.lower()\n",
    "\n",
    "# Removing punctuations\n",
    "cleaned_text = lower_case.translate(str.maketrans('', '', string.punctuation))\n",
    "\n",
    "# splitting text into words\n",
    "tokenized_words = cleaned_text.split()\n",
    "\n",
    "stop_words = [\"i\", \"me\", \"my\", \"myself\", \"we\", \"our\", \"ours\", \"ourselves\", \"you\", \"your\", \"yours\", \"yourself\",\n",
    "              \"yourselves\", \"he\", \"him\", \"his\", \"himself\", \"she\", \"her\", \"hers\", \"herself\", \"it\", \"its\", \"itself\",\n",
    "              \"they\", \"them\", \"their\", \"theirs\", \"themselves\", \"what\", \"which\", \"who\", \"whom\", \"this\", \"that\", \"these\",\n",
    "              \"those\", \"am\", \"is\", \"are\", \"was\", \"were\", \"be\", \"been\", \"being\", \"have\", \"has\", \"had\", \"having\", \"do\",\n",
    "              \"does\", \"did\", \"doing\", \"a\", \"an\", \"the\", \"and\", \"but\", \"if\", \"or\", \"because\", \"as\", \"until\", \"while\",\n",
    "              \"of\", \"at\", \"by\", \"for\", \"with\", \"about\", \"against\", \"between\", \"into\", \"through\", \"during\", \"before\",\n",
    "              \"after\", \"above\", \"below\", \"to\", \"from\", \"up\", \"down\", \"in\", \"out\", \"on\", \"off\", \"over\", \"under\", \"again\",\n",
    "              \"further\", \"then\", \"once\", \"here\", \"there\", \"when\", \"where\", \"why\", \"how\", \"all\", \"any\", \"both\", \"each\",\n",
    "              \"few\", \"more\", \"most\", \"other\", \"some\", \"such\", \"no\", \"nor\", \"not\", \"only\", \"own\", \"same\", \"so\", \"than\",\n",
    "              \"too\", \"very\", \"s\", \"t\", \"can\", \"will\", \"just\", \"don\", \"should\", \"now\"]\n",
    "\n",
    "# Removing stop words from the tokenized words list\n",
    "final_words = []\n",
    "for word in tokenized_words:\n",
    "    if word not in stop_words:\n",
    "        final_words.append(word)\n",
    "\n",
    "# NLP Emotion Algorithm\n",
    "# 1) Check if the word in the final word list is also present in emotion.txt\n",
    "#  - open the emotion file\n",
    "#  - Loop through each line and clear it\n",
    "#  - Extract the word and emotion using split\n",
    "\n",
    "# 2) If word is present -> Add the emotion to emotion_list\n",
    "# 3) Finally count each emotion in the emotion list\n",
    "\n",
    "emotion_list = []\n",
    "with open('emotions.txt', 'r') as file:\n",
    "    for line in file:\n",
    "        clear_line = line.replace(\"\\n\", '').replace(\",\", '').replace(\"'\", '').strip()\n",
    "        # print(clear_line)\n",
    "        # print(clear_line.split(\":\"))\n",
    "        _split_into_list = clear_line.split(\":\") \n",
    "        # word, emotion = clear_line.split(':')\n",
    "        word, emotion = _split_into_list[0], _split_into_list[-1]\n",
    "\n",
    "        if word in final_words:\n",
    "            emotion_list.append(emotion)\n",
    "\n",
    "print(emotion_list)\n",
    "w = Counter(emotion_list)\n",
    "print(w)\n",
    "\n",
    "# Plotting the emotions on the graph\n",
    "\n",
    "fig, ax1 = plt.subplots()\n",
    "ax1.bar(w.keys(), w.values())\n",
    "fig.autofmt_xdate()\n",
    "plt.savefig('graph2.png')\n",
    "plt.show()\n"
   ]
  },
  {
   "cell_type": "code",
   "execution_count": null,
   "id": "4beeb8bf-65f8-4560-99c2-fb837125cc7b",
   "metadata": {},
   "outputs": [],
   "source": []
  },
  {
   "cell_type": "code",
   "execution_count": null,
   "id": "8b3838dd-86c9-4f9b-ae19-a5db76834983",
   "metadata": {},
   "outputs": [],
   "source": []
  },
  {
   "cell_type": "code",
   "execution_count": null,
   "id": "d8626f8b-aba7-4e22-863a-ff078389dd0a",
   "metadata": {},
   "outputs": [],
   "source": []
  }
 ],
 "metadata": {
  "kernelspec": {
   "display_name": "Python 3 (ipykernel)",
   "language": "python",
   "name": "python3"
  },
  "language_info": {
   "codemirror_mode": {
    "name": "ipython",
    "version": 3
   },
   "file_extension": ".py",
   "mimetype": "text/x-python",
   "name": "python",
   "nbconvert_exporter": "python",
   "pygments_lexer": "ipython3",
   "version": "3.9.7"
  }
 },
 "nbformat": 4,
 "nbformat_minor": 5
}
